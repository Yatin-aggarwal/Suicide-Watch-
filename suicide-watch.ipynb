{
 "cells": [
  {
   "cell_type": "code",
   "execution_count": 1,
   "id": "ebb8b49c",
   "metadata": {
    "_cell_guid": "b1076dfc-b9ad-4769-8c92-a6c4dae69d19",
    "_kg_hide-input": true,
    "_uuid": "8f2839f25d086af736a60e9eeb907d3b93b6e0e5",
    "execution": {
     "iopub.execute_input": "2024-01-10T10:10:01.347926Z",
     "iopub.status.busy": "2024-01-10T10:10:01.347605Z",
     "iopub.status.idle": "2024-01-10T10:10:02.028514Z",
     "shell.execute_reply": "2024-01-10T10:10:02.027453Z"
    },
    "papermill": {
     "duration": 0.692635,
     "end_time": "2024-01-10T10:10:02.030573",
     "exception": false,
     "start_time": "2024-01-10T10:10:01.337938",
     "status": "completed"
    },
    "tags": []
   },
   "outputs": [
    {
     "name": "stdout",
     "output_type": "stream",
     "text": [
      "/kaggle/input/suicide-watch/Suicide_Detection.csv\n"
     ]
    }
   ],
   "source": [
    "# This Python 3 environment comes with many helpful analytics libraries installed\n",
    "# It is defined by the kaggle/python Docker image: https://github.com/kaggle/docker-python\n",
    "# For example, here's several helpful packages to load\n",
    "\n",
    "import numpy as np # linear algebra\n",
    "import pandas as pd # data processing, CSV file I/O (e.g. pd.read_csv)\n",
    "\n",
    "# Input data files are available in the read-only \"../input/\" directory\n",
    "# For example, running this (by clicking run or pressing Shift+Enter) will list all files under the input directory\n",
    "\n",
    "import os\n",
    "for dirname, _, filenames in os.walk('/kaggle/input'):\n",
    "    for filename in filenames:\n",
    "        print(os.path.join(dirname, filename))\n",
    "\n",
    "# You can write up to 20GB to the current directory (/kaggle/working/) that gets preserved as output when you create a version using \"Save & Run All\" \n",
    "# You can also write temporary files to /kaggle/temp/, but they won't be saved outside of the current session"
   ]
  },
  {
   "cell_type": "markdown",
   "id": "244a982d",
   "metadata": {
    "papermill": {
     "duration": 0.008041,
     "end_time": "2024-01-10T10:10:02.047325",
     "exception": false,
     "start_time": "2024-01-10T10:10:02.039284",
     "status": "completed"
    },
    "tags": []
   },
   "source": [
    "# Sucide Watch"
   ]
  },
  {
   "cell_type": "markdown",
   "id": "bf6e4427",
   "metadata": {
    "papermill": {
     "duration": 0.007959,
     "end_time": "2024-01-10T10:10:02.063510",
     "exception": false,
     "start_time": "2024-01-10T10:10:02.055551",
     "status": "completed"
    },
    "tags": []
   },
   "source": [
    "This project is made in order to detect person Vulnerability or likelyhood to commit Suicide"
   ]
  },
  {
   "cell_type": "code",
   "execution_count": 2,
   "id": "34dc0739",
   "metadata": {
    "execution": {
     "iopub.execute_input": "2024-01-10T10:10:02.081366Z",
     "iopub.status.busy": "2024-01-10T10:10:02.080917Z",
     "iopub.status.idle": "2024-01-10T10:10:13.995258Z",
     "shell.execute_reply": "2024-01-10T10:10:13.994477Z"
    },
    "papermill": {
     "duration": 11.925699,
     "end_time": "2024-01-10T10:10:13.997466",
     "exception": false,
     "start_time": "2024-01-10T10:10:02.071767",
     "status": "completed"
    },
    "tags": []
   },
   "outputs": [
    {
     "name": "stderr",
     "output_type": "stream",
     "text": [
      "/opt/conda/lib/python3.10/site-packages/scipy/__init__.py:146: UserWarning: A NumPy version >=1.16.5 and <1.23.0 is required for this version of SciPy (detected version 1.24.3\n",
      "  warnings.warn(f\"A NumPy version >={np_minversion} and <{np_maxversion}\"\n"
     ]
    }
   ],
   "source": [
    "import tensorflow as tf \n",
    "from tensorflow.keras.preprocessing.text import Tokenizer\n",
    "from tensorflow.keras.preprocessing.sequence import pad_sequences\n",
    "from sklearn.model_selection import train_test_split"
   ]
  },
  {
   "cell_type": "markdown",
   "id": "802503ad",
   "metadata": {
    "papermill": {
     "duration": 0.008056,
     "end_time": "2024-01-10T10:10:14.014081",
     "exception": false,
     "start_time": "2024-01-10T10:10:14.006025",
     "status": "completed"
    },
    "tags": []
   },
   "source": [
    "Suicide watch Dataset contains people notes who have commited suicides "
   ]
  },
  {
   "cell_type": "code",
   "execution_count": 3,
   "id": "4e822842",
   "metadata": {
    "execution": {
     "iopub.execute_input": "2024-01-10T10:10:14.032184Z",
     "iopub.status.busy": "2024-01-10T10:10:14.031618Z",
     "iopub.status.idle": "2024-01-10T10:10:18.695354Z",
     "shell.execute_reply": "2024-01-10T10:10:18.694359Z"
    },
    "papermill": {
     "duration": 4.675382,
     "end_time": "2024-01-10T10:10:18.697809",
     "exception": false,
     "start_time": "2024-01-10T10:10:14.022427",
     "status": "completed"
    },
    "tags": []
   },
   "outputs": [],
   "source": [
    "train = pd.read_csv(\"/kaggle/input/suicide-watch/Suicide_Detection.csv\")"
   ]
  },
  {
   "cell_type": "code",
   "execution_count": 4,
   "id": "a024427e",
   "metadata": {
    "execution": {
     "iopub.execute_input": "2024-01-10T10:10:18.716104Z",
     "iopub.status.busy": "2024-01-10T10:10:18.715802Z",
     "iopub.status.idle": "2024-01-10T10:10:18.783943Z",
     "shell.execute_reply": "2024-01-10T10:10:18.782948Z"
    },
    "papermill": {
     "duration": 0.079467,
     "end_time": "2024-01-10T10:10:18.785936",
     "exception": false,
     "start_time": "2024-01-10T10:10:18.706469",
     "status": "completed"
    },
    "tags": []
   },
   "outputs": [
    {
     "name": "stdout",
     "output_type": "stream",
     "text": [
      "<class 'pandas.core.frame.DataFrame'>\n",
      "RangeIndex: 232074 entries, 0 to 232073\n",
      "Data columns (total 3 columns):\n",
      " #   Column      Non-Null Count   Dtype \n",
      "---  ------      --------------   ----- \n",
      " 0   Unnamed: 0  232074 non-null  int64 \n",
      " 1   text        232074 non-null  object\n",
      " 2   class       232074 non-null  object\n",
      "dtypes: int64(1), object(2)\n",
      "memory usage: 5.3+ MB\n"
     ]
    }
   ],
   "source": [
    "train.info()"
   ]
  },
  {
   "cell_type": "code",
   "execution_count": 5,
   "id": "cc5162d4",
   "metadata": {
    "execution": {
     "iopub.execute_input": "2024-01-10T10:10:18.804040Z",
     "iopub.status.busy": "2024-01-10T10:10:18.803722Z",
     "iopub.status.idle": "2024-01-10T10:10:18.824411Z",
     "shell.execute_reply": "2024-01-10T10:10:18.823532Z"
    },
    "papermill": {
     "duration": 0.03184,
     "end_time": "2024-01-10T10:10:18.826343",
     "exception": false,
     "start_time": "2024-01-10T10:10:18.794503",
     "status": "completed"
    },
    "tags": []
   },
   "outputs": [],
   "source": [
    "train['text'] = train['text'].astype(str)\n",
    "   "
   ]
  },
  {
   "cell_type": "code",
   "execution_count": 6,
   "id": "e0dc532e",
   "metadata": {
    "execution": {
     "iopub.execute_input": "2024-01-10T10:10:18.844461Z",
     "iopub.status.busy": "2024-01-10T10:10:18.844179Z",
     "iopub.status.idle": "2024-01-10T10:10:19.063863Z",
     "shell.execute_reply": "2024-01-10T10:10:19.063083Z"
    },
    "papermill": {
     "duration": 0.231185,
     "end_time": "2024-01-10T10:10:19.065983",
     "exception": false,
     "start_time": "2024-01-10T10:10:18.834798",
     "status": "completed"
    },
    "tags": []
   },
   "outputs": [],
   "source": [
    "data = []\n",
    "max_len= 0\n",
    "max_len_seq = 0 \n",
    "for i in train['text']:\n",
    "    data.append(i)\n",
    "    max_len+=len(i)\n",
    "    max_len_seq= max(max_len_seq,len(i))"
   ]
  },
  {
   "cell_type": "code",
   "execution_count": 7,
   "id": "08267ee7",
   "metadata": {
    "execution": {
     "iopub.execute_input": "2024-01-10T10:10:19.085182Z",
     "iopub.status.busy": "2024-01-10T10:10:19.084489Z",
     "iopub.status.idle": "2024-01-10T10:10:19.184093Z",
     "shell.execute_reply": "2024-01-10T10:10:19.183128Z"
    },
    "papermill": {
     "duration": 0.111561,
     "end_time": "2024-01-10T10:10:19.186318",
     "exception": false,
     "start_time": "2024-01-10T10:10:19.074757",
     "status": "completed"
    },
    "tags": []
   },
   "outputs": [],
   "source": [
    "train.loc[train['class']== 'suicide'] = 1\n",
    "train.loc[train['class']== 'non-suicide'] = 0"
   ]
  },
  {
   "cell_type": "code",
   "execution_count": 8,
   "id": "55a9f9f0",
   "metadata": {
    "execution": {
     "iopub.execute_input": "2024-01-10T10:10:19.205218Z",
     "iopub.status.busy": "2024-01-10T10:10:19.204907Z",
     "iopub.status.idle": "2024-01-10T10:10:19.209130Z",
     "shell.execute_reply": "2024-01-10T10:10:19.208284Z"
    },
    "papermill": {
     "duration": 0.015636,
     "end_time": "2024-01-10T10:10:19.211066",
     "exception": false,
     "start_time": "2024-01-10T10:10:19.195430",
     "status": "completed"
    },
    "tags": []
   },
   "outputs": [],
   "source": [
    "pred = np.asarray(train['class'])"
   ]
  },
  {
   "cell_type": "code",
   "execution_count": 9,
   "id": "45f0afa2",
   "metadata": {
    "execution": {
     "iopub.execute_input": "2024-01-10T10:10:19.228551Z",
     "iopub.status.busy": "2024-01-10T10:10:19.228304Z",
     "iopub.status.idle": "2024-01-10T10:10:19.237532Z",
     "shell.execute_reply": "2024-01-10T10:10:19.236584Z"
    },
    "papermill": {
     "duration": 0.020045,
     "end_time": "2024-01-10T10:10:19.239326",
     "exception": false,
     "start_time": "2024-01-10T10:10:19.219281",
     "status": "completed"
    },
    "tags": []
   },
   "outputs": [
    {
     "name": "stdout",
     "output_type": "stream",
     "text": [
      "[1 0 0 ... 0 1 0]\n"
     ]
    }
   ],
   "source": [
    "print(pred)"
   ]
  },
  {
   "cell_type": "markdown",
   "id": "e89ec4bf",
   "metadata": {
    "papermill": {
     "duration": 0.008107,
     "end_time": "2024-01-10T10:10:19.255840",
     "exception": false,
     "start_time": "2024-01-10T10:10:19.247733",
     "status": "completed"
    },
    "tags": []
   },
   "source": [
    "**Splitting Data in Train, Test And Validation Sets**"
   ]
  },
  {
   "cell_type": "code",
   "execution_count": 10,
   "id": "94c0748c",
   "metadata": {
    "execution": {
     "iopub.execute_input": "2024-01-10T10:10:19.273495Z",
     "iopub.status.busy": "2024-01-10T10:10:19.273244Z",
     "iopub.status.idle": "2024-01-10T10:10:19.352490Z",
     "shell.execute_reply": "2024-01-10T10:10:19.351796Z"
    },
    "papermill": {
     "duration": 0.090335,
     "end_time": "2024-01-10T10:10:19.354486",
     "exception": false,
     "start_time": "2024-01-10T10:10:19.264151",
     "status": "completed"
    },
    "tags": []
   },
   "outputs": [],
   "source": [
    "txt, x_test, acc_pred, y_test = train_test_split(data\n",
    "    , pred, test_size=0.10, random_state=0)"
   ]
  },
  {
   "cell_type": "code",
   "execution_count": 11,
   "id": "fd93be10",
   "metadata": {
    "execution": {
     "iopub.execute_input": "2024-01-10T10:10:19.372612Z",
     "iopub.status.busy": "2024-01-10T10:10:19.372361Z",
     "iopub.status.idle": "2024-01-10T10:10:19.448520Z",
     "shell.execute_reply": "2024-01-10T10:10:19.447803Z"
    },
    "papermill": {
     "duration": 0.087584,
     "end_time": "2024-01-10T10:10:19.450620",
     "exception": false,
     "start_time": "2024-01-10T10:10:19.363036",
     "status": "completed"
    },
    "tags": []
   },
   "outputs": [],
   "source": [
    "txt, x_val, acc_pred, y_val= train_test_split(txt, acc_pred, test_size=0.20, random_state=0)"
   ]
  },
  {
   "cell_type": "code",
   "execution_count": 12,
   "id": "6aef0178",
   "metadata": {
    "execution": {
     "iopub.execute_input": "2024-01-10T10:10:19.468607Z",
     "iopub.status.busy": "2024-01-10T10:10:19.468346Z",
     "iopub.status.idle": "2024-01-10T10:10:19.472509Z",
     "shell.execute_reply": "2024-01-10T10:10:19.471693Z"
    },
    "papermill": {
     "duration": 0.015511,
     "end_time": "2024-01-10T10:10:19.474647",
     "exception": false,
     "start_time": "2024-01-10T10:10:19.459136",
     "status": "completed"
    },
    "tags": []
   },
   "outputs": [
    {
     "name": "stdout",
     "output_type": "stream",
     "text": [
      "160047452\n"
     ]
    }
   ],
   "source": [
    "print(max_len)"
   ]
  },
  {
   "cell_type": "markdown",
   "id": "63e9f916",
   "metadata": {
    "papermill": {
     "duration": 0.008123,
     "end_time": "2024-01-10T10:10:19.491180",
     "exception": false,
     "start_time": "2024-01-10T10:10:19.483057",
     "status": "completed"
    },
    "tags": []
   },
   "source": [
    "**Tokenizing sentences**"
   ]
  },
  {
   "cell_type": "code",
   "execution_count": 13,
   "id": "d3282de1",
   "metadata": {
    "execution": {
     "iopub.execute_input": "2024-01-10T10:10:19.509321Z",
     "iopub.status.busy": "2024-01-10T10:10:19.509075Z",
     "iopub.status.idle": "2024-01-10T10:10:39.723339Z",
     "shell.execute_reply": "2024-01-10T10:10:39.722546Z"
    },
    "papermill": {
     "duration": 20.226517,
     "end_time": "2024-01-10T10:10:39.725990",
     "exception": false,
     "start_time": "2024-01-10T10:10:19.499473",
     "status": "completed"
    },
    "tags": []
   },
   "outputs": [],
   "source": [
    "tokenizer = Tokenizer(num_words = 16004, oov_token='<OOV>')\n",
    "tokenizer.fit_on_texts(txt)"
   ]
  },
  {
   "cell_type": "code",
   "execution_count": 14,
   "id": "cab9299e",
   "metadata": {
    "execution": {
     "iopub.execute_input": "2024-01-10T10:10:39.744730Z",
     "iopub.status.busy": "2024-01-10T10:10:39.744408Z",
     "iopub.status.idle": "2024-01-10T10:10:59.126115Z",
     "shell.execute_reply": "2024-01-10T10:10:59.125122Z"
    },
    "papermill": {
     "duration": 19.393691,
     "end_time": "2024-01-10T10:10:59.128491",
     "exception": false,
     "start_time": "2024-01-10T10:10:39.734800",
     "status": "completed"
    },
    "tags": []
   },
   "outputs": [],
   "source": [
    "word_index = tokenizer.word_index\n",
    "sequences = tokenizer.texts_to_sequences(txt)\n",
    "padded = pad_sequences(sequences, padding='post', truncating='post', maxlen= 500)"
   ]
  },
  {
   "cell_type": "code",
   "execution_count": 15,
   "id": "246e8a95",
   "metadata": {
    "execution": {
     "iopub.execute_input": "2024-01-10T10:10:59.147598Z",
     "iopub.status.busy": "2024-01-10T10:10:59.147302Z",
     "iopub.status.idle": "2024-01-10T10:11:03.797742Z",
     "shell.execute_reply": "2024-01-10T10:11:03.796728Z"
    },
    "papermill": {
     "duration": 4.662431,
     "end_time": "2024-01-10T10:11:03.800159",
     "exception": false,
     "start_time": "2024-01-10T10:10:59.137728",
     "status": "completed"
    },
    "tags": []
   },
   "outputs": [],
   "source": [
    "val_sequences = tokenizer.texts_to_sequences(x_val)\n",
    "val_padded = pad_sequences(val_sequences, padding='post', truncating='post', maxlen= 500)"
   ]
  },
  {
   "cell_type": "code",
   "execution_count": 16,
   "id": "3e162370",
   "metadata": {
    "execution": {
     "iopub.execute_input": "2024-01-10T10:11:03.818637Z",
     "iopub.status.busy": "2024-01-10T10:11:03.818354Z",
     "iopub.status.idle": "2024-01-10T10:11:06.456213Z",
     "shell.execute_reply": "2024-01-10T10:11:06.455429Z"
    },
    "papermill": {
     "duration": 2.649898,
     "end_time": "2024-01-10T10:11:06.458818",
     "exception": false,
     "start_time": "2024-01-10T10:11:03.808920",
     "status": "completed"
    },
    "tags": []
   },
   "outputs": [],
   "source": [
    "test_sequences = tokenizer.texts_to_sequences(x_test)\n",
    "test_padded = pad_sequences(test_sequences, padding='post', truncating='post', maxlen= 500)"
   ]
  },
  {
   "cell_type": "markdown",
   "id": "3940d7b3",
   "metadata": {
    "papermill": {
     "duration": 0.008273,
     "end_time": "2024-01-10T10:11:06.476784",
     "exception": false,
     "start_time": "2024-01-10T10:11:06.468511",
     "status": "completed"
    },
    "tags": []
   },
   "source": [
    "**Ready Data for Training , Validating and Testing**"
   ]
  },
  {
   "cell_type": "code",
   "execution_count": 17,
   "id": "a7f73779",
   "metadata": {
    "execution": {
     "iopub.execute_input": "2024-01-10T10:11:06.494842Z",
     "iopub.status.busy": "2024-01-10T10:11:06.494500Z",
     "iopub.status.idle": "2024-01-10T10:11:06.915697Z",
     "shell.execute_reply": "2024-01-10T10:11:06.914857Z"
    },
    "papermill": {
     "duration": 0.432891,
     "end_time": "2024-01-10T10:11:06.917981",
     "exception": false,
     "start_time": "2024-01-10T10:11:06.485090",
     "status": "completed"
    },
    "tags": []
   },
   "outputs": [],
   "source": [
    "\n",
    "training_padded = np.array(padded).astype(int)\n",
    "training_labels = np.array(acc_pred).astype(int)\n",
    "val_padded = np.array(val_padded).astype(int)\n",
    "val_labels = np.array(y_val).astype(int)\n",
    "test_padded = np.array(test_padded).astype(int)\n",
    "test_labels = np.array(y_test).astype(int)"
   ]
  },
  {
   "cell_type": "code",
   "execution_count": 18,
   "id": "8a372afd",
   "metadata": {
    "execution": {
     "iopub.execute_input": "2024-01-10T10:11:06.936635Z",
     "iopub.status.busy": "2024-01-10T10:11:06.936324Z",
     "iopub.status.idle": "2024-01-10T10:11:06.940508Z",
     "shell.execute_reply": "2024-01-10T10:11:06.939717Z"
    },
    "papermill": {
     "duration": 0.015461,
     "end_time": "2024-01-10T10:11:06.942318",
     "exception": false,
     "start_time": "2024-01-10T10:11:06.926857",
     "status": "completed"
    },
    "tags": []
   },
   "outputs": [],
   "source": [
    "training_labels = training_labels.reshape(-1,1)"
   ]
  },
  {
   "cell_type": "code",
   "execution_count": 19,
   "id": "e7d662c0",
   "metadata": {
    "execution": {
     "iopub.execute_input": "2024-01-10T10:11:06.960119Z",
     "iopub.status.busy": "2024-01-10T10:11:06.959867Z",
     "iopub.status.idle": "2024-01-10T10:11:08.428822Z",
     "shell.execute_reply": "2024-01-10T10:11:08.428026Z"
    },
    "papermill": {
     "duration": 1.480355,
     "end_time": "2024-01-10T10:11:08.431059",
     "exception": false,
     "start_time": "2024-01-10T10:11:06.950704",
     "status": "completed"
    },
    "tags": []
   },
   "outputs": [],
   "source": [
    "model = tf.keras.Sequential([\n",
    "    tf.keras.layers.Embedding(16004,8,input_shape =training_padded[0].shape),\n",
    "    tf.keras.layers.LSTM(28,return_sequences=True),\n",
    "    tf.keras.layers.LSTM(28),\n",
    "    tf.keras.layers.Dense(1, activation='sigmoid')\n",
    "])"
   ]
  },
  {
   "cell_type": "code",
   "execution_count": 20,
   "id": "1f4663ec",
   "metadata": {
    "execution": {
     "iopub.execute_input": "2024-01-10T10:11:08.449583Z",
     "iopub.status.busy": "2024-01-10T10:11:08.449254Z",
     "iopub.status.idle": "2024-01-10T10:11:08.485836Z",
     "shell.execute_reply": "2024-01-10T10:11:08.484889Z"
    },
    "papermill": {
     "duration": 0.050617,
     "end_time": "2024-01-10T10:11:08.490416",
     "exception": false,
     "start_time": "2024-01-10T10:11:08.439799",
     "status": "completed"
    },
    "tags": []
   },
   "outputs": [
    {
     "name": "stdout",
     "output_type": "stream",
     "text": [
      "Model: \"sequential\"\n",
      "_________________________________________________________________\n",
      " Layer (type)                Output Shape              Param #   \n",
      "=================================================================\n",
      " embedding (Embedding)       (None, 500, 8)            128032    \n",
      "                                                                 \n",
      " lstm (LSTM)                 (None, 500, 28)           4144      \n",
      "                                                                 \n",
      " lstm_1 (LSTM)               (None, 28)                6384      \n",
      "                                                                 \n",
      " dense (Dense)               (None, 1)                 29        \n",
      "                                                                 \n",
      "=================================================================\n",
      "Total params: 138589 (541.36 KB)\n",
      "Trainable params: 138589 (541.36 KB)\n",
      "Non-trainable params: 0 (0.00 Byte)\n",
      "_________________________________________________________________\n"
     ]
    }
   ],
   "source": [
    "model.compile(loss='binary_crossentropy',optimizer='adam',metrics=['accuracy'])\n",
    "model.summary()"
   ]
  },
  {
   "cell_type": "code",
   "execution_count": 21,
   "id": "1c0dff21",
   "metadata": {
    "execution": {
     "iopub.execute_input": "2024-01-10T10:11:08.510954Z",
     "iopub.status.busy": "2024-01-10T10:11:08.510643Z",
     "iopub.status.idle": "2024-01-10T10:47:08.823953Z",
     "shell.execute_reply": "2024-01-10T10:47:08.823026Z"
    },
    "papermill": {
     "duration": 2162.63276,
     "end_time": "2024-01-10T10:47:11.132843",
     "exception": false,
     "start_time": "2024-01-10T10:11:08.500083",
     "status": "completed"
    },
    "tags": []
   },
   "outputs": [
    {
     "name": "stdout",
     "output_type": "stream",
     "text": [
      "Epoch 1/10\n",
      "5222/5222 [==============================] - 330s 62ms/step - loss: 0.4222 - accuracy: 0.7661 - val_loss: 0.2131 - val_accuracy: 0.9216\n",
      "Epoch 2/10\n",
      "5222/5222 [==============================] - 211s 40ms/step - loss: 0.1669 - accuracy: 0.9400 - val_loss: 0.1466 - val_accuracy: 0.9464\n",
      "Epoch 3/10\n",
      "5222/5222 [==============================] - 206s 39ms/step - loss: 0.1309 - accuracy: 0.9531 - val_loss: 0.1384 - val_accuracy: 0.9498\n",
      "Epoch 4/10\n",
      "5222/5222 [==============================] - 205s 39ms/step - loss: 0.1129 - accuracy: 0.9594 - val_loss: 0.1404 - val_accuracy: 0.9476\n",
      "Epoch 5/10\n",
      "5222/5222 [==============================] - 202s 39ms/step - loss: 0.0977 - accuracy: 0.9654 - val_loss: 0.1339 - val_accuracy: 0.9514\n",
      "Epoch 6/10\n",
      "5222/5222 [==============================] - 202s 39ms/step - loss: 0.0877 - accuracy: 0.9692 - val_loss: 0.1384 - val_accuracy: 0.9503\n",
      "Epoch 7/10\n",
      "5222/5222 [==============================] - 202s 39ms/step - loss: 0.0786 - accuracy: 0.9726 - val_loss: 0.1501 - val_accuracy: 0.9487\n",
      "Epoch 8/10\n",
      "5222/5222 [==============================] - 201s 39ms/step - loss: 0.0702 - accuracy: 0.9758 - val_loss: 0.1490 - val_accuracy: 0.9478\n",
      "Epoch 9/10\n",
      "5222/5222 [==============================] - 200s 38ms/step - loss: 0.0629 - accuracy: 0.9784 - val_loss: 0.1628 - val_accuracy: 0.9464\n",
      "Epoch 10/10\n",
      "5222/5222 [==============================] - 200s 38ms/step - loss: 0.0564 - accuracy: 0.9805 - val_loss: 0.1811 - val_accuracy: 0.9441\n"
     ]
    }
   ],
   "source": [
    "num_epochs = 10\n",
    "history = model.fit(training_padded, training_labels, epochs=num_epochs,  validation_data=(val_padded, val_labels), verbose=1)"
   ]
  },
  {
   "cell_type": "code",
   "execution_count": 22,
   "id": "787273fc",
   "metadata": {
    "execution": {
     "iopub.execute_input": "2024-01-10T10:47:15.436018Z",
     "iopub.status.busy": "2024-01-10T10:47:15.435350Z",
     "iopub.status.idle": "2024-01-10T10:47:16.170338Z",
     "shell.execute_reply": "2024-01-10T10:47:16.169424Z"
    },
    "papermill": {
     "duration": 2.930378,
     "end_time": "2024-01-10T10:47:16.172532",
     "exception": false,
     "start_time": "2024-01-10T10:47:13.242154",
     "status": "completed"
    },
    "tags": []
   },
   "outputs": [
    {
     "data": {
      "image/png": "[encoded data removed]",
      "text/plain": [
       "<Figure size 640x480 with 1 Axes>"
      ]
     },
     "metadata": {},
     "output_type": "display_data"
    },
    {
     "data": {
      "image/png": "[encoded data removed]",
      "text/plain": [
       "<Figure size 640x480 with 1 Axes>"
      ]
     },
     "metadata": {},
     "output_type": "display_data"
    }
   ],
   "source": [
    "import matplotlib.pyplot as plt\n",
    "import seaborn as sns\n",
    "def plot_graphs(history, string):\n",
    "    plt.plot(history.history[string])\n",
    "    plt.plot(history.history['val_'+string])\n",
    "    plt.xlabel(\"Epochs\")\n",
    "    plt.ylabel(string)\n",
    "    plt.legend([string, 'val_'+string])\n",
    "    plt.show()\n",
    "\n",
    "plot_graphs(history, \"accuracy\")\n",
    "plot_graphs(history, \"loss\")"
   ]
  },
  {
   "cell_type": "code",
   "execution_count": 23,
   "id": "ed4d391c",
   "metadata": {
    "execution": {
     "iopub.execute_input": "2024-01-10T10:47:20.617213Z",
     "iopub.status.busy": "2024-01-10T10:47:20.616286Z",
     "iopub.status.idle": "2024-01-10T10:47:31.997633Z",
     "shell.execute_reply": "2024-01-10T10:47:31.996815Z"
    },
    "papermill": {
     "duration": 13.636382,
     "end_time": "2024-01-10T10:47:31.999986",
     "exception": false,
     "start_time": "2024-01-10T10:47:18.363604",
     "status": "completed"
    },
    "tags": []
   },
   "outputs": [
    {
     "name": "stdout",
     "output_type": "stream",
     "text": [
      "726/726 [==============================] - 11s 14ms/step\n"
     ]
    }
   ],
   "source": [
    "y_pred = model.predict(test_padded)"
   ]
  },
  {
   "cell_type": "code",
   "execution_count": 24,
   "id": "9a686148",
   "metadata": {
    "execution": {
     "iopub.execute_input": "2024-01-10T10:47:36.408181Z",
     "iopub.status.busy": "2024-01-10T10:47:36.407302Z",
     "iopub.status.idle": "2024-01-10T10:47:36.412710Z",
     "shell.execute_reply": "2024-01-10T10:47:36.411728Z"
    },
    "papermill": {
     "duration": 2.290987,
     "end_time": "2024-01-10T10:47:36.414697",
     "exception": false,
     "start_time": "2024-01-10T10:47:34.123710",
     "status": "completed"
    },
    "tags": []
   },
   "outputs": [],
   "source": [
    "y_pred[y_pred>=0.5]= 1\n",
    "y_pred[y_pred<0.5]= 0"
   ]
  },
  {
   "cell_type": "code",
   "execution_count": 25,
   "id": "3dcb63ba",
   "metadata": {
    "execution": {
     "iopub.execute_input": "2024-01-10T10:47:40.815094Z",
     "iopub.status.busy": "2024-01-10T10:47:40.814732Z",
     "iopub.status.idle": "2024-01-10T10:47:41.082198Z",
     "shell.execute_reply": "2024-01-10T10:47:41.081338Z"
    },
    "papermill": {
     "duration": 2.395804,
     "end_time": "2024-01-10T10:47:41.084229",
     "exception": false,
     "start_time": "2024-01-10T10:47:38.688425",
     "status": "completed"
    },
    "tags": []
   },
   "outputs": [
    {
     "data": {
      "image/png": "[encoded data removed]",
      "text/plain": [
       "<Figure size 640x480 with 2 Axes>"
      ]
     },
     "metadata": {},
     "output_type": "display_data"
    }
   ],
   "source": [
    "from sklearn.metrics import confusion_matrix\n",
    "cm = confusion_matrix(test_labels, y_pred)\n",
    "tn, fp, fn, tp = cm.ravel()\n",
    "sns.heatmap(cm, \n",
    "            annot=True,\n",
    "            fmt='g', \n",
    "            xticklabels=['Suicide','Not_Suicide'],\n",
    "            yticklabels=['Suicide','Not_Suicide'])\n",
    "plt.ylabel('Prediction',fontsize=13)\n",
    "plt.xlabel('Actual',fontsize=13)\n",
    "plt.title('Confusion Matrix',fontsize=17)\n",
    "plt.show()"
   ]
  },
  {
   "cell_type": "code",
   "execution_count": 26,
   "id": "d1036633",
   "metadata": {
    "execution": {
     "iopub.execute_input": "2024-01-10T10:47:45.494755Z",
     "iopub.status.busy": "2024-01-10T10:47:45.493933Z",
     "iopub.status.idle": "2024-01-10T10:47:45.501488Z",
     "shell.execute_reply": "2024-01-10T10:47:45.500417Z"
    },
    "papermill": {
     "duration": 2.141668,
     "end_time": "2024-01-10T10:47:45.503359",
     "exception": false,
     "start_time": "2024-01-10T10:47:43.361691",
     "status": "completed"
    },
    "tags": []
   },
   "outputs": [
    {
     "name": "stdout",
     "output_type": "stream",
     "text": [
      "93.99775939331265\n"
     ]
    }
   ],
   "source": [
    "from sklearn.metrics import accuracy_score\n",
    "print((accuracy_score(test_labels,y_pred))*100)"
   ]
  },
  {
   "cell_type": "code",
   "execution_count": null,
   "id": "4680f3cb",
   "metadata": {
    "papermill": {
     "duration": 2.171061,
     "end_time": "2024-01-10T10:47:49.836195",
     "exception": false,
     "start_time": "2024-01-10T10:47:47.665134",
     "status": "completed"
    },
    "tags": []
   },
   "outputs": [],
   "source": []
  }
 ],
 "metadata": {
  "kaggle": {
   "accelerator": "gpu",
   "dataSources": [
    {
     "datasetId": 1075326,
     "sourceId": 2250642,
     "sourceType": "datasetVersion"
    }
   ],
   "dockerImageVersionId": 30626,
   "isGpuEnabled": true,
   "isInternetEnabled": true,
   "language": "python",
   "sourceType": "notebook"
  },
  "kernelspec": {
   "display_name": "Python 3",
   "language": "python",
   "name": "python3"
  },
  "language_info": {
   "codemirror_mode": {
    "name": "ipython",
    "version": 3
   },
   "file_extension": ".py",
   "mimetype": "text/x-python",
   "name": "python",
   "nbconvert_exporter": "python",
   "pygments_lexer": "ipython3",
   "version": "3.10.12"
  },
  "papermill": {
   "default_parameters": {},
   "duration": 2276.889428,
   "end_time": "2024-01-10T10:47:54.846964",
   "environment_variables": {},
   "exception": null,
   "input_path": "__notebook__.ipynb",
   "output_path": "__notebook__.ipynb",
   "parameters": {},
   "start_time": "2024-01-10T10:09:57.957536",
   "version": "2.4.0"
  }
 },
 "nbformat": 4,
 "nbformat_minor": 5
}
